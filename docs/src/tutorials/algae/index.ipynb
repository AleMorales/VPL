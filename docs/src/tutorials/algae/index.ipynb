{
  "cells": [
    {
      "cell_type": "raw",
      "metadata": {},
      "source": [
        "---\n",
        "title: \"Algae growth\"\n",
        "format: \n",
        "  commonmark:\n",
        "    variant: -raw_html\n",
        "---"
      ],
      "id": "3ece9b06"
    },
    {
      "cell_type": "markdown",
      "metadata": {},
      "source": [
        "# Algae growth\n",
        "\n",
        "In this first example, we learn how to create a `Graph` and update it dynamically with rewriting rules. \n",
        "\n",
        "The model described here is based on the non-branching model of [algae growth](https://en.wikipedia.org/wiki/L-system#Example_1:_Algae) proposed by Lindermayer as one of the first L-systems.\n",
        "\n",
        "First, we need to load the VPL metapackage, which will automatically load all the packages in the VPL ecosystem. "
      ],
      "id": "8d3771e4"
    },
    {
      "cell_type": "code",
      "metadata": {},
      "source": [
        "using VPL"
      ],
      "id": "8728ca21",
      "execution_count": null,
      "outputs": []
    },
    {
      "cell_type": "markdown",
      "metadata": {},
      "source": [
        "The rewriting rules of the L-system are as follows:\n",
        "\n",
        "**axiom**:   A  \n",
        "\n",
        "**rule 1**:  A $\\rightarrow$ AB  \n",
        "\n",
        "**rule 2**:  B $\\rightarrow$ A  \n",
        "\n",
        "In VPL, this L-system would be implemented as a graph where the nodes can be of type `A` or `B` and inherit from the abstract type `Node`:"
      ],
      "id": "be73c596"
    },
    {
      "cell_type": "code",
      "metadata": {},
      "source": [
        "struct A <: Node end\n",
        "struct B <: Node end"
      ],
      "id": "4c35d0ae",
      "execution_count": null,
      "outputs": []
    },
    {
      "cell_type": "markdown",
      "metadata": {},
      "source": [
        "Note that in this very example we do not need to store any data or state inside the nodes, so types `A` and `B` do not require fields.\n",
        "\n",
        "The axiom is simply defined as an instance of type of `A`:"
      ],
      "id": "c34221e2"
    },
    {
      "cell_type": "code",
      "metadata": {},
      "source": [
        "axiom = A()"
      ],
      "id": "9214f552",
      "execution_count": null,
      "outputs": []
    },
    {
      "cell_type": "markdown",
      "metadata": {},
      "source": [
        "The rewriting rules are implemented in VPL as objects of type `Rule`. In VPL, a rewriting rule substitutes a node in a graph with a new node or subgraph and is therefore composed of two parts:\n",
        "\n",
        "1. A condition that is tested against each node in a graph to choose which nodes to rewrite.  \n",
        "2. A subgraph that will replace each node selected by the condition above.  \n",
        "\n",
        "In VPL, the condition is split into two components:\n",
        "\n",
        "1. The type of node to be selected (in this example that would be `A` or `B`).  \n",
        "2. A function that is applied to each node in the graph (of the specified type) to indicate whether the node should be selected or not. This function is optional (the default is to select every node of the specified type).\n",
        "\n",
        "The replacement subgraph is specified by a function that takes as input the node selected and returns a subgraph defined as a combination of node objects. Subgraphs (which can also be used as axioms) are created by linearly combining objects that inherit from `Node`. The operation `+` implies a linear relationship between two nodes and `[]` indicates branching.\n",
        "\n",
        "The implementation of the two rules of algae growth model in VPL is as follows:"
      ],
      "id": "17d34a0c"
    },
    {
      "cell_type": "code",
      "metadata": {},
      "source": [
        "rule1 = Rule(A, rhs = x -> A() + B())\n",
        "rule2 = Rule(B, rhs = x -> A())"
      ],
      "id": "5e069484",
      "execution_count": null,
      "outputs": []
    },
    {
      "cell_type": "markdown",
      "metadata": {},
      "source": [
        "Note that in each case, the argument `rhs` is being assigned an anonymous (aka *lambda*) function. This is a function without a name that is defined directly in the assigment to the argument. That is, the Julia expression `x -> A() + B()` is equivalent to the following function definition:"
      ],
      "id": "7f6c9d86"
    },
    {
      "cell_type": "code",
      "metadata": {},
      "source": [
        "function rule_1(x)\n",
        "    A() + B()\n",
        "end"
      ],
      "id": "9e9e4abc",
      "execution_count": null,
      "outputs": []
    },
    {
      "cell_type": "markdown",
      "metadata": {},
      "source": [
        "For simple rules (especially if the right hand side is just a line of code) it is easier to just define the right hand side of the rule with an anonymous function rather than creating a standalone function with a meaningful name.  However, standalone functions are easier to debug as you can call them directly from the REPL.\n",
        "\n",
        "With the axiom and rules we can now create a `Graph` object that represents the algae organism. The first argument is the axiom and the second is a tuple with all the rewriting rules:"
      ],
      "id": "bdd3b739"
    },
    {
      "cell_type": "code",
      "metadata": {},
      "source": [
        "algae = Graph(axiom, rules = (rule1, rule2))"
      ],
      "id": "6e1b3399",
      "execution_count": null,
      "outputs": []
    },
    {
      "cell_type": "markdown",
      "metadata": {},
      "source": [
        "We can visualize the graph by using the function `draw()`. This will open an external window with an interactive network representation of the current state of the graph:"
      ],
      "id": "1ff408cb"
    },
    {
      "cell_type": "code",
      "metadata": {},
      "source": [
        "draw(algae);"
      ],
      "id": "2a1f90be",
      "execution_count": null,
      "outputs": []
    },
    {
      "cell_type": "markdown",
      "metadata": {},
      "source": [
        "You can see that at the moment the graph only contains the axiom, that is, a node of type `A`. If we apply the rewriting rules iteratively, the graph will grow, in this case representing the growth of the algae organism. The rewriting rules are applied on the graph with the function `rewrite!()`:"
      ],
      "id": "d133b627"
    },
    {
      "cell_type": "code",
      "metadata": {},
      "source": [
        "rewrite!(algae)"
      ],
      "id": "f24e2e7c",
      "execution_count": null,
      "outputs": []
    },
    {
      "cell_type": "markdown",
      "metadata": {},
      "source": [
        "Since there was only one node of type `A`, the only rule that was applied was `rule1`, so the graph should now have two nodes of types `A` and `B`, respectively. We can confirm this by drawing the graph."
      ],
      "id": "4669f1ef"
    },
    {
      "cell_type": "code",
      "metadata": {},
      "source": [
        "draw(algae);"
      ],
      "id": "990273d5",
      "execution_count": null,
      "outputs": []
    },
    {
      "cell_type": "markdown",
      "metadata": {},
      "source": [
        "Notice that each node in the network representation is labelled with the type of node (`A` or `B` in this case) and a number in parenthesis. This number is a unique identifier associated to each node and it is useful for debugging purposes (this will be explained in more advanced examples).\n",
        "\n",
        "Applying multiple iterations of rewriting can be achieved with a simple loop:"
      ],
      "id": "ad753b3a"
    },
    {
      "cell_type": "code",
      "metadata": {},
      "source": [
        "for i in 1:4\n",
        "    rewrite!(algae)\n",
        "end\n",
        "draw(algae);"
      ],
      "id": "80bbb25a",
      "execution_count": null,
      "outputs": []
    },
    {
      "cell_type": "markdown",
      "metadata": {},
      "source": [
        "The network is rather boring as the system is growing linearly (no branching) but it already illustrates how graphs can grow rapidly in just a few iterations. Remember that the interactive visualization allows adjusting the zoom, which is handy when graphs become large."
      ],
      "id": "f1d8a6f1"
    }
  ],
  "metadata": {
    "kernelspec": {
      "name": "julia-1.7",
      "language": "julia",
      "display_name": "Julia 1.7.2"
    }
  },
  "nbformat": 4,
  "nbformat_minor": 5
}